{
 "cells": [
  {
   "cell_type": "code",
   "execution_count": null,
   "metadata": {},
   "outputs": [],
   "source": [
    "#require \"ppx_yojson_conv\" ;;\n",
    "\n",
    "open Ppx_yojson_conv_lib.Yojson_conv.Primitives\n",
    "\n",
    "type t = { foo : int; baz : string; } [@@deriving yojson]\n",
    "\n",
    "let expected = \"{\\\"foo\\\":42,\\\"baz\\\":\\\"hello\\\"}\"\n",
    "\n",
    "let actual =\n",
    "  { foo = 42; baz = \"hello\"; }\n",
    "  |> [%yojson_of: t]\n",
    "  |> Yojson.Safe.to_string\n",
    "\n",
    "let () = assert (expected = actual) ;;"
   ]
  }
 ],
 "metadata": {
  "kernelspec": {
   "display_name": "OCaml default",
   "language": "OCaml",
   "name": "__KERNEL_NAME__"
  },
  "language_info": {
   "codemirror_mode": "text/x-ocaml",
   "file_extension": ".ml",
   "mimetype": "text/x-ocaml",
   "name": "OCaml",
   "nbconverter_exporter": null,
   "pygments_lexer": "OCaml",
   "version": "4.11.1"
  }
 },
 "nbformat": 4,
 "nbformat_minor": 4
}
